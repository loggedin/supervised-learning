{
 "cells": [
  {
   "cell_type": "markdown",
   "id": "245f0c86",
   "metadata": {},
   "source": [
    "# Model Selection within Student's t Regression"
   ]
  },
  {
   "cell_type": "markdown",
   "id": "6f970dfb",
   "metadata": {},
   "source": [
    "Let us recall that the Student's t distribution is given as\n",
    "$$\n",
    "p(y | \\mu, \\sigma, \\nu) = \\frac{\\Gamma\\left(\\frac{\\nu+1}{2}\\right)}{\\Gamma\\left(\\frac{\\nu}{2}\\right)} \\frac{1}{\\sqrt{\\nu\\pi\\sigma^2}} \\left(1 + \\frac{(y - \\mu)^2}{\\nu\\sigma^2}\\right)^{-\\frac{\\nu+1}{2}}\n",
    "$$\n",
    "where $\\mu$ is the mean, $\\sigma$ is the scale, and $\\nu$ is the degrees of freedom. The gamma function is given as\n",
    "$$\n",
    "\\Gamma(x) = \\int_0^\\infty t^{x-1} e^{-t} dt.\n",
    "$$"
   ]
  },
  {
   "cell_type": "code",
   "execution_count": 1,
   "id": "fe6c0bde",
   "metadata": {},
   "outputs": [],
   "source": [
    "import numpy as np\n",
    "import matplotlib.pyplot as plt\n",
    "import scipy.stats as stats"
   ]
  },
  {
   "cell_type": "markdown",
   "id": "42755564",
   "metadata": {},
   "source": [
    "I will derive the likelihood for Student's t *linear* regression (i.e. linear regression with centred Student's t errors with nonnegative scale $\\sigma$ and degrees of freedom $\\nu$) for $n$ observations."
   ]
  },
  {
   "cell_type": "markdown",
   "id": "a47a5ec3-98ef-4fc3-add0-0fb8f28a33fc",
   "metadata": {},
   "source": [
    "<div style=\"height:20.9cm;\">\n",
    "The linear regression model is given by\n",
    "\n",
    "$$\n",
    "y_i = \\beta_0 + \\beta_1 x_{i1} + \\beta_2 x_{i2} + \\ldots + \\beta_p x_{ip} + \\epsilon_i\n",
    "$$\n",
    "\n",
    "where:\n",
    "- $y_i$ is the response variable for observations $i$;\n",
    "- $\\beta_0$, $\\beta_1$, ..., $\\beta_p$ are the regression coefficients;\n",
    "- $x_{i1}$, $x_{i2}$, ..., $x_{ip}$ are the explanatory variables for observation $i$; and\n",
    "- $\\epsilon_i$ is the error of observation $i$.\n",
    "\n",
    "In matrix notation, this can be expressed as\n",
    "\n",
    "$$\n",
    "Y = X \\beta + \\epsilon\n",
    "$$\n",
    "\n",
    "where:\n",
    "- $Y$ is the vector of responses;\n",
    "- $X$ is the design matrix;\n",
    "- $\\beta$ is the vector of parameters; and\n",
    "- $\\epsilon$ is the vector of errors.\n",
    "\n",
    "We have centred Student's t errors with nonnegative scale $\\sigma$ and degrees of freedom $\\nu$. That is, $\\epsilon_i \\sim t_{\\nu}(\\mu=0, \\sigma, \\nu)$. For observation $i$, we can therefore write\n",
    "\n",
    "$$\n",
    "p(\\epsilon_i \\mid \\sigma, \\nu) = \\frac{ \\Gamma \\left( \\frac {\\nu + 1} { 2 } \\right) } { \\Gamma \\left( \\frac { \\nu } { 2 } \\right) } \\frac { 1 } { \\sqrt { \\nu \\pi \\sigma ^ 2 } } \\left( 1 + \\frac { \\epsilon_i^2 } { \\nu \\sigma^2} \\right) ^ { -\\frac {\\nu + 1 } { 2 }}.\n",
    "$$\n",
    "\n",
    "Assuming the errors are independent, the likelihood function is the product of the individual probability distribution functions:\n",
    "\n",
    "\\begin{align*}\n",
    "L(\\beta, \\sigma, \\nu \\mid Y, X) &= \\prod_{i=1}^{n} p\\left(\\epsilon_i \\mid \\sigma, \\nu\\right)\\\\\n",
    "&= \\prod_{i=1}^{n} p\\left(y_i - X_i \\beta \\mid \\sigma, \\nu\\right).\n",
    "\\end{align*}\n",
    "\n",
    "This can then be written explicitly as\n",
    "\n",
    "$$\n",
    "L(\\beta, \\sigma, \\nu \\mid Y, X) = \\prod_{i=1}^{n} \\frac{\\Gamma\\left(\\frac{\\nu+1}{2}\\right)}{\\Gamma\\left(\\frac{\\nu}{2}\\right)} \\frac{1}{\\sqrt{\\nu\\pi\\sigma^2}} \\left(1 + \\frac{(y_i - X_i \\beta)^2}{\\nu\\sigma^2}\\right)^{-\\frac{\\nu+1}{2}}.\n",
    "$$"
   ]
  },
  {
   "cell_type": "markdown",
   "id": "d022006f",
   "metadata": {},
   "source": [
    "Using the likelihood derived in the previous step, I will derive the log-likelihood and code a function that evaluates this log-likelihood."
   ]
  },
  {
   "cell_type": "markdown",
   "id": "faa6bcc5-63e0-4eb1-8779-8cea7e9640cd",
   "metadata": {},
   "source": [
    "<div style=\"height:7.2cm;\">\n",
    "Take the natural logarithm to obtain the log-likelihood.\n",
    "\n",
    "\\begin{align*}\n",
    "\\mathcal{L}(\\beta, \\sigma, \\nu | Y, X) &= \\textnormal{log} \\left( L(\\beta, \\sigma, \\nu | Y, X) \\right)\\\\\n",
    "&= \\textnormal{log} \\left( \\prod_{i=1}^{n} \\frac{\\Gamma\\left(\\frac{\\nu+1}{2}\\right)}{\\Gamma\\left(\\frac{\\nu}{2}\\right)} \\frac{1}{\\sqrt{\\nu\\pi\\sigma^2}} \\left(1 + \\frac{(y_i - X_i \\beta)^2}{\\nu\\sigma^2}\\right)^{-\\frac{\\nu+1}{2}} \\right)\\\\\n",
    "&= \\sum_{i=1}^{n} \\textnormal{log} \\left( \\frac{\\Gamma\\left(\\frac{\\nu+1}{2}\\right)}{\\Gamma\\left(\\frac{\\nu}{2}\\right)} \\frac{1}{\\sqrt{\\nu\\pi\\sigma^2}} \\left(1 + \\frac{(y_i - X_i \\beta)^2}{\\nu\\sigma^2}\\right)^{-\\frac{\\nu+1}{2}} \\right)\\\\\n",
    "&= \\sum_{i=1}^{n} \\left[\\log\\Gamma\\left(\\frac{\\nu+1}{2}\\right) - \\log\\Gamma\\left(\\frac{\\nu}{2}\\right) - \\frac{1}{2}\\log(\\nu\\pi\\sigma^2) - \\frac{\\nu+1}{2} \\log\\left(1 + \\frac{(y_i - X_i \\beta)^2}{\\nu\\sigma^2}\\right)\\right]\n",
    "\\end{align*}"
   ]
  },
  {
   "cell_type": "code",
   "execution_count": 2,
   "id": "5d04729b",
   "metadata": {},
   "outputs": [
    {
     "name": "stdout",
     "output_type": "stream",
     "text": [
      "-15.957325977606658\n",
      "-26.827441481365288\n",
      "-22.611979832718994\n"
     ]
    }
   ],
   "source": [
    "def log_likelihood(y, X, beta, sigma, nu):\n",
    "    residuals = y - X @ beta\n",
    "    log_likelihood = np.sum(stats.t.logpdf(residuals, scale=sigma, df=nu))\n",
    "    return log_likelihood\n",
    "\n",
    "# test points - do not change\n",
    "print(log_likelihood(np.array([1, 2, 3]), np.array([[1, 2], [3, 4], [5, 6]]), np.array([1, 2]), 1, 1))\n",
    "print(log_likelihood(np.array([1, 2, 3]), np.array([[1, 2], [3, 4], [5, 6]]), np.array([1, 2]), 1, 5))\n",
    "print(log_likelihood(np.array([1, 2, 3]), np.array([[1, 2], [3, 4], [5, 6]]), np.array([1, 2]), 2, 10))"
   ]
  },
  {
   "cell_type": "markdown",
   "id": "aeaade65",
   "metadata": {},
   "source": [
    "I am interested in estimating $\\beta$, $\\sigma$ and $\\nu$, hence will denote the log-likelihood $\\mathcal{L}(\\beta, \\sigma, \\nu)$. I will use gradient descent to maximise this log-likelihood w.r.t. $\\beta$ and $\\sigma$.\n",
    "\n",
    "I will start by deriving the partial derivatives of $\\mathcal{L}$ w.r.t. $\\beta$ and $\\sigma$."
   ]
  },
  {
   "cell_type": "markdown",
   "id": "4bb11bce-9f5a-4af6-b0bf-ed4fd3d807f3",
   "metadata": {},
   "source": [
    "<div style=\"height:10.8cm;\">\n",
    "Note that $\\beta$ is a vector so we will have to use vector calculus.\n",
    "\n",
    "\\begin{align*}\n",
    "\\frac{\\partial \\mathcal{L}}{\\partial \\beta} &= \\sum_{i=1}^{n} \\left[0 + 0 + 0 - \\frac{\\nu+1}{2} \\frac{1}{1 + \\frac{(y_i - X_i \\beta)^2}{\\nu\\sigma^2}} \\frac{2}{\\nu\\sigma^2} (y_i - X_i \\beta) (-X_i^T) \\right]\\\\\n",
    "&= \\sum_{i=1}^{n} \\left[\\frac{\\nu+1}{\\nu\\sigma^2} \\frac{y_i - X_i \\beta}{1 + \\frac{(y_i - X_i \\beta)^2}{\\nu\\sigma^2}}X_i^T\\right]\\\\\n",
    "&= \\frac{\\nu+1}{\\nu\\sigma^2} \\sum_{i=1}^{n} \\frac{y_i - X_i \\beta}{1 + \\frac{(y_i - X_i \\beta)^2}{\\nu\\sigma^2}} X_i^T\n",
    "\\end{align*}\n",
    "\n",
    "Thankfully $\\sigma$ is a scalar.\n",
    "\n",
    "\\begin{align*}\n",
    "\\frac{\\partial \\mathcal{L}}{\\partial \\sigma} &= \\sum_{i=1}^{n} \\left[0 + 0 - \\frac{1}{2} \\frac{1}{\\nu\\pi\\sigma^2} 2\\nu\\pi\\sigma - \\frac{\\nu+1}{2} \\frac{1}{1 + \\frac{(y_i - X_i \\beta)^2}{\\nu\\sigma^2}}\\left( - \\frac{ 2 (y_i - X_i \\beta)^2}{\\nu\\sigma^3} \\right)\\right]\\\\\n",
    "&= \\sum_{i=1}^{n} \\left[ -\\frac{1}{\\sigma} + \\frac{\\nu+1}{\\nu\\sigma^3} \\frac{(y_i - X_i \\beta)^2}{ 1 + \\frac{(y_i - X_i \\beta)^2 }{\\nu\\sigma^2} }\\right]\n",
    "\\end{align*}"
   ]
  },
  {
   "cell_type": "markdown",
   "id": "2eda5d10",
   "metadata": {},
   "source": [
    "I will then code a function that evaluates the partial derivatives of $\\mathcal{L}$ w.r.t. $\\beta$ and $\\sigma$."
   ]
  },
  {
   "cell_type": "code",
   "execution_count": 3,
   "id": "4983c9fd",
   "metadata": {},
   "outputs": [
    {
     "name": "stdout",
     "output_type": "stream",
     "text": [
      "[-1.83978472 -2.67201713]\n",
      "[-5.11613031 -7.30480488]\n",
      "[-6.5029716  -8.75941008]\n",
      "2.8478104130100723\n",
      "13.07333763078296\n",
      "8.321043363416244\n"
     ]
    }
   ],
   "source": [
    "def gradient_beta(y, X, beta, nu, sigma):\n",
    "    # Initialise the gradient to be returned\n",
    "    gradient = np.zeros_like(beta, dtype=float)\n",
    "    # Apply the formula derived above, looping over all observations\n",
    "    n = len(y)\n",
    "    for i in range(n):\n",
    "        residual = y[i] - X[i] @ beta\n",
    "        denominator_term = 1 + residual**2 / (nu * sigma**2)\n",
    "        gradient += (nu + 1) / (nu * sigma**2) * residual / denominator_term * X[i]\n",
    "    return gradient\n",
    "\n",
    "# test points - do not change\n",
    "print(gradient_beta(np.array([1, 2, 3]), np.array([[1, 2], [3, 4], [5, 6]]), np.array([1, 2]), 1, 1))\n",
    "print(gradient_beta(np.array([1, 2, 3]), np.array([[1, 2], [3, 4], [5, 6]]), np.array([1, 2]), 5, 1))\n",
    "print(gradient_beta(np.array([1, 2, 3]), np.array([[1, 2], [3, 4], [5, 6]]), np.array([1, 2]), 10, 2))\n",
    "\n",
    "def gradient_sigma(y, X, beta, nu, sigma):\n",
    "    # Initialise the gradient to be returned\n",
    "    gradient = 0.0\n",
    "    # Apply the formula derived above, looping over all observations\n",
    "    n = len(y)\n",
    "    for i in range(n):\n",
    "        residual = y[i] - X[i] @ beta\n",
    "        denominator_term = 1 + residual**2 / (nu * sigma**2)\n",
    "        gradient += -1/sigma + (nu + 1) / (nu * sigma**3) * residual**2 / denominator_term\n",
    "    return gradient\n",
    "\n",
    "# test points - do not change\n",
    "print(gradient_sigma(np.array([1, 2, 3]), np.array([[1, 2], [3, 4], [5, 6]]), np.array([1, 2]), 1, 1))\n",
    "print(gradient_sigma(np.array([1, 2, 3]), np.array([[1, 2], [3, 4], [5, 6]]), np.array([1, 2]), 5, 1))\n",
    "print(gradient_sigma(np.array([1, 2, 3]), np.array([[1, 2], [3, 4], [5, 6]]), np.array([1, 2]), 10, 2))"
   ]
  },
  {
   "cell_type": "markdown",
   "id": "78fa258b",
   "metadata": {},
   "source": [
    "I will now code a function that performs gradient descent to maximise the log-likelihood."
   ]
  },
  {
   "cell_type": "code",
   "execution_count": 4,
   "id": "ba3c8a8e",
   "metadata": {},
   "outputs": [],
   "source": [
    "def gradient_descent(X, y, nu, learning_rate, max_iter):\n",
    "\n",
    "    # Initialise the parameters to be maximised\n",
    "    beta = np.zeros(X.shape[1])\n",
    "    sigma = 1.0\n",
    "    # Define convergence criterion\n",
    "    epsilon = 1e-9\n",
    "    \n",
    "    # Create a list to store log-likelihood values\n",
    "    log_likelihood_values = []\n",
    "    # Initialise prev_log_likelihood variable with negative infinity\n",
    "    prev_log_likelihood = float('-inf')\n",
    "\n",
    "    for iteration in range(max_iter):\n",
    "        \n",
    "        current_log_likelihood = log_likelihood(y, X, beta, sigma, nu)\n",
    "        \n",
    "        # Check for convergence\n",
    "        if np.abs(current_log_likelihood - prev_log_likelihood) < epsilon:\n",
    "            break\n",
    "            \n",
    "        # Calculate the gradients\n",
    "        grad_beta = gradient_beta(y, X, beta, nu, sigma)\n",
    "        grad_sigma = gradient_sigma(y, X, beta, nu, sigma)\n",
    "        \n",
    "        # Update the parameter estimates\n",
    "        beta += learning_rate * grad_beta\n",
    "        sigma += learning_rate * grad_sigma\n",
    "\n",
    "        log_likelihood_values.append(current_log_likelihood)\n",
    "        prev_log_likelihood = current_log_likelihood\n",
    "\n",
    "    return beta, sigma"
   ]
  },
  {
   "cell_type": "markdown",
   "id": "2aa217ac",
   "metadata": {},
   "source": [
    "I will load $\\texttt{data.csv}$ and fit the Student's t regression model to the data using my gradient descent function. To compare, I will use the `statsmodels` package to fit a Student's t regression model to the data. To perform the test, specify $\\nu = 10$."
   ]
  },
  {
   "cell_type": "code",
   "execution_count": 5,
   "id": "d6332357-8a2a-449c-8029-bc9423acc006",
   "metadata": {},
   "outputs": [],
   "source": [
    "import statsmodels.api as sm\n",
    "from statsmodels.miscmodels.tmodel import TLinearModel\n",
    "import pandas as pd\n",
    "\n",
    "nu = 10"
   ]
  },
  {
   "cell_type": "code",
   "execution_count": 6,
   "id": "f652c226",
   "metadata": {},
   "outputs": [
    {
     "name": "stdout",
     "output_type": "stream",
     "text": [
      "Gradient Descent - Optimised Beta: [ 0.50101384 -0.46721985  1.23921152]\n",
      "Gradient Descent - Optimised Sigma: 0.6556943651838807\n"
     ]
    }
   ],
   "source": [
    "# Load data\n",
    "data = pd.read_csv('data/data.csv')\n",
    "\n",
    "# Extract features and target variable\n",
    "X = data[['x1', 'x2']].values\n",
    "y = data['y'].values\n",
    "\n",
    "# Add a constant to the model (the intercept term)\n",
    "X_with_intercept = sm.add_constant(X)\n",
    "\n",
    "# Apply gradient descent function\n",
    "beta_gradient_descent, sigma_gradient_descent = gradient_descent(X_with_intercept, y, nu, learning_rate=0.0001, max_iter=1000)\n",
    "print('Gradient Descent - Optimised Beta:', beta_gradient_descent)\n",
    "print('Gradient Descent - Optimised Sigma:', sigma_gradient_descent)"
   ]
  },
  {
   "cell_type": "code",
   "execution_count": 7,
   "id": "f3cff6ab-ad82-4f3d-8cd1-3ec39d6aa018",
   "metadata": {},
   "outputs": [
    {
     "name": "stdout",
     "output_type": "stream",
     "text": [
      "running Tmodel initialize\n",
      "                             TLinearModel Results                             \n",
      "==============================================================================\n",
      "Dep. Variable:                      y   Log-Likelihood:                -1196.9\n",
      "Model:                   TLinearModel   AIC:                             2402.\n",
      "Method:            Maximum Likelihood   BIC:                             2421.\n",
      "Date:                Thu, 03 Oct 2024                                         \n",
      "Time:                        16:01:06                                         \n",
      "No. Observations:                1000                                         \n",
      "Df Residuals:                     996                                         \n",
      "Df Model:                           2                                         \n",
      "==============================================================================\n",
      "                 coef    std err          z      P>|z|      [0.025      0.975]\n",
      "------------------------------------------------------------------------------\n",
      "const          0.5011      0.022     22.475      0.000       0.457       0.545\n",
      "x1            -0.4671      0.022    -21.035      0.000      -0.511      -0.424\n",
      "x2             1.2391      0.023     53.484      0.000       1.194       1.285\n",
      "scale          0.6555      0.018     36.721      0.000       0.621       0.691\n",
      "==============================================================================\n"
     ]
    }
   ],
   "source": [
    "# Fit using the statsmodels package\n",
    "t_model = TLinearModel(y, X_with_intercept, df=nu, fix_df=nu)\n",
    "t_model_fit = t_model.fit(disp=False)\n",
    "print(t_model_fit.summary())"
   ]
  },
  {
   "cell_type": "markdown",
   "id": "8522bb19-9b36-4acd-9df8-8f3c3f8f7073",
   "metadata": {},
   "source": [
    "These values very nearly match. The slight differences are due to different optimisation algorithms giving very slightly different optimal parameters."
   ]
  },
  {
   "cell_type": "markdown",
   "id": "c18a6f57",
   "metadata": {},
   "source": [
    "I will implement the Akaike Information Criterion (AIC) and the Bayesian Information Criterion (BIC) for the model I have fitted and show that these match `TLinearModel` output for specific $\\nu$ given above."
   ]
  },
  {
   "cell_type": "code",
   "execution_count": 8,
   "id": "4cae9c95",
   "metadata": {},
   "outputs": [
    {
     "name": "stdout",
     "output_type": "stream",
     "text": [
      "TLinearModel output - AIC:    2401.74\n",
      "Gradient Descent - AIC:       2401.74\n",
      "TLinearModel output - BIC:    2421.37\n",
      "Gradient Descent - BIC:       2421.37\n"
     ]
    }
   ],
   "source": [
    "def calculate_aic(log_likelihood, p):\n",
    "    return -2 * log_likelihood + 2 * p\n",
    "\n",
    "def calculate_bic(log_likelihood, p, n):\n",
    "    return -2 * log_likelihood + p * np.log(n)\n",
    "\n",
    "log_likelihood_gradient_descent = log_likelihood(y, X_with_intercept, beta_gradient_descent, sigma_gradient_descent, nu)\n",
    "# Get the number of observations and the number of parameters\n",
    "n = len(y)\n",
    "p = len(beta_gradient_descent) + 1\n",
    "\n",
    "# Apply calculate_aic and calculate_bic to calculate AIC and BIC values for the model I have fitted\n",
    "aic_gradient_descent = calculate_aic(log_likelihood_gradient_descent, p)\n",
    "bic_gradient_descent = calculate_bic(log_likelihood_gradient_descent, p, n)\n",
    "\n",
    "# Get AIC and BIC values from TLinearModel output\n",
    "aic_statsmodels = t_model_fit.aic\n",
    "bic_statsmodels = t_model_fit.bic\n",
    "\n",
    "# Print AIC and BIC values to 2 decimal places\n",
    "print(f'TLinearModel output - AIC:    {aic_statsmodels:.2f}')\n",
    "print(f'Gradient Descent - AIC:       {aic_gradient_descent:.2f}')\n",
    "print(f'TLinearModel output - BIC:    {bic_statsmodels:.2f}')\n",
    "print(f'Gradient Descent - BIC:       {bic_gradient_descent:.2f}')"
   ]
  },
  {
   "cell_type": "markdown",
   "id": "4efe44e3-8cb8-45c4-a65e-0474284445f4",
   "metadata": {},
   "source": [
    "These values (to 2 decimal places) do indeed match. However, if we display more decimal places, there will be slight differences. This is due to different optimisation algorithms giving very slightly different optimised parameters."
   ]
  },
  {
   "cell_type": "code",
   "execution_count": 9,
   "id": "140a6f23-0e76-4149-bc5f-24792feef3a0",
   "metadata": {},
   "outputs": [
    {
     "name": "stdout",
     "output_type": "stream",
     "text": [
      "TLinearModel output - AIC:    2401.74345\n",
      "Gradient Descent - AIC:       2401.74332\n",
      "TLinearModel output - BIC:    2421.37447\n",
      "Gradient Descent - BIC:       2421.37434\n"
     ]
    }
   ],
   "source": [
    "print(f'TLinearModel output - AIC:    {aic_statsmodels:.5f}')\n",
    "print(f'Gradient Descent - AIC:       {aic_gradient_descent:.5f}')\n",
    "print(f'TLinearModel output - BIC:    {bic_statsmodels:.5f}')\n",
    "print(f'Gradient Descent - BIC:       {bic_gradient_descent:.5f}')"
   ]
  },
  {
   "cell_type": "markdown",
   "id": "e9c1155f",
   "metadata": {},
   "source": [
    "I will specify a range of values (given below) for the $\\nu$ parameter and plot AIC and BIC w.r.t. $\\nu$."
   ]
  },
  {
   "cell_type": "code",
   "execution_count": 10,
   "id": "143fecdb",
   "metadata": {},
   "outputs": [
    {
     "data": {
      "image/png": "[encoded data removed]",
      "text/plain": [
       "<Figure size 640x480 with 1 Axes>"
      ]
     },
     "metadata": {},
     "output_type": "display_data"
    }
   ],
   "source": [
    "import os\n",
    "import sys\n",
    "\n",
    "nu_range = np.linspace(1, 5, 50)\n",
    "\n",
    "# Initialise lists to store AIC and BIC values\n",
    "aic_values = []\n",
    "bic_values = []\n",
    "\n",
    "# Calculate AIC and BIC for each nu in the range\n",
    "for nu in nu_range:\n",
    "    \n",
    "    # Temporarily redirect stdout to suppress messages\n",
    "    original_stdout = sys.stdout\n",
    "    sys.stdout = open(os.devnull, 'w')\n",
    "\n",
    "    # Fit using the statsmodels package for the current nu\n",
    "    t_model_nu = TLinearModel(y, X_with_intercept, df=nu, fix_df=nu)\n",
    "    t_model_fit_nu = t_model_nu.fit(disp=False)\n",
    "\n",
    "    # Restore stdout\n",
    "    sys.stdout = original_stdout\n",
    "\n",
    "    # Get AIC and BIC from TLinearModel output\n",
    "    aic_values.append(t_model_fit_nu.aic)\n",
    "    bic_values.append(t_model_fit_nu.bic)\n",
    "\n",
    "# Plot AIC and BIC w.r.t. nu\n",
    "plt.figure()\n",
    "plt.plot(nu_range, aic_values, label='AIC')\n",
    "plt.plot(nu_range, bic_values, label='BIC')\n",
    "plt.ylabel('Information Criterion')\n",
    "plt.xlabel('nu')\n",
    "plt.title('AIC and BIC w.r.t. nu')\n",
    "plt.legend()\n",
    "plt.show()"
   ]
  },
  {
   "cell_type": "code",
   "execution_count": 11,
   "id": "775c4351-6eb9-4492-81dc-037695c70332",
   "metadata": {},
   "outputs": [
    {
     "name": "stdout",
     "output_type": "stream",
     "text": [
      "Best nu value for AIC: 2.55\n",
      "Best nu value for BIC: 2.55\n"
     ]
    }
   ],
   "source": [
    "# Find the index of the minimum AIC and BIC values\n",
    "min_aic_index = np.argmin(aic_values)\n",
    "min_bic_index = np.argmin(bic_values)\n",
    "\n",
    "# Find the corresponding nu values for the minimum AIC and BIC values\n",
    "best_nu_aic = nu_range[min_aic_index]\n",
    "best_nu_bic = nu_range[min_bic_index]\n",
    "\n",
    "# Print the best nu values to 2 decimal places\n",
    "print(f'Best nu value for AIC: {best_nu_aic:.2f}')\n",
    "print(f'Best nu value for BIC: {best_nu_bic:.2f}')"
   ]
  },
  {
   "cell_type": "markdown",
   "id": "f6c853fa",
   "metadata": {},
   "source": [
    "I will: perform cross-validation to choose the best $\\nu$ for the model using the negative log-likelihood function as the loss function; plot CV loss estimates w.r.t. $\\nu$; choose the best $\\nu$ for this model."
   ]
  },
  {
   "cell_type": "code",
   "execution_count": 12,
   "id": "59494e6b",
   "metadata": {},
   "outputs": [
    {
     "name": "stdout",
     "output_type": "stream",
     "text": [
      "Best nu value from 10-Fold Cross-Validation: 2.55\n"
     ]
    }
   ],
   "source": [
    "from sklearn.model_selection import KFold\n",
    "\n",
    "# Initialise list to store negative log-likelihood values for each nu\n",
    "negative_log_likelihood_values = []\n",
    "\n",
    "# Perform k-fold cross-validation for each nu in the range with k=10\n",
    "kfold = KFold(n_splits=10)\n",
    "\n",
    "for nu in nu_range:\n",
    "    \n",
    "    log_likelihood_per_nu = 0.0\n",
    "\n",
    "    for train_index, test_index in kfold.split(X_with_intercept):\n",
    "        \n",
    "        X_train, X_test = X_with_intercept[train_index], X_with_intercept[test_index]\n",
    "        y_train, y_test = y[train_index], y[test_index]\n",
    "\n",
    "        # Fit for the current nu on the training set\n",
    "        beta_est, sigma_est = gradient_descent(X_train, y_train, nu, learning_rate=0.0001, max_iter=1000)\n",
    "        \n",
    "        # Calculate the log-likelihood on the test set\n",
    "        log_likelihood_per_nu += log_likelihood(y_test, X_test, beta_est, sigma_est, nu)\n",
    "    \n",
    "    # Store the negative log-likelihood\n",
    "    negative_log_likelihood_values.append(-log_likelihood_per_nu)\n",
    "\n",
    "# Find the index of the minimum negative log-likelihood\n",
    "min_nll_index = np.argmin(negative_log_likelihood_values)\n",
    "\n",
    "# Find the corresponding nu value for the minimum negative log-likelihood\n",
    "best_nu_nll = nu_range[min_nll_index]\n",
    "\n",
    "# Print the best nu values to 2 decimal places\n",
    "print(f'Best nu value from 10-Fold Cross-Validation: {best_nu_nll:.2f}')"
   ]
  },
  {
   "cell_type": "code",
   "execution_count": 13,
   "id": "72fa8c6d-5e71-42a8-8fa9-520984d17e81",
   "metadata": {},
   "outputs": [
    {
     "data": {
      "image/png": "[encoded data removed]",
      "text/plain": [
       "<Figure size 640x480 with 1 Axes>"
      ]
     },
     "metadata": {},
     "output_type": "display_data"
    }
   ],
   "source": [
    "# Plot negative log-likelihood w.r.t. nu\n",
    "plt.figure()\n",
    "plt.plot(nu_range, negative_log_likelihood_values)\n",
    "plt.ylabel('Negative Log-Likelihood')\n",
    "plt.xlabel('nu')\n",
    "plt.title('Negative log-likelihood w.r.t. nu (10-Fold Cross-Validation)')\n",
    "plt.show()"
   ]
  },
  {
   "cell_type": "markdown",
   "id": "49b006c7-ad81-481f-983f-fdf032139bf1",
   "metadata": {},
   "source": [
    "This agrees with AIC/BIC results."
   ]
  }
 ],
 "metadata": {
  "jupytext": {
   "cell_metadata_filter": "-all",
   "formats": "Rmd,ipynb",
   "main_language": "python"
  },
  "kernelspec": {
   "display_name": "Python 3 (ipykernel)",
   "language": "python",
   "name": "python3"
  },
  "language_info": {
   "codemirror_mode": {
    "name": "ipython",
    "version": 3
   },
   "file_extension": ".py",
   "mimetype": "text/x-python",
   "name": "python",
   "nbconvert_exporter": "python",
   "pygments_lexer": "ipython3",
   "version": "3.12.0"
  }
 },
 "nbformat": 4,
 "nbformat_minor": 5
}
